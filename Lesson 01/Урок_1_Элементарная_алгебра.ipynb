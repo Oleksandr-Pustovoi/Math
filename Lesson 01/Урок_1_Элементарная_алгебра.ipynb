{
  "nbformat": 4,
  "nbformat_minor": 0,
  "metadata": {
    "colab": {
      "name": "Урок 1 Элементарная алгебра.ipynb",
      "provenance": []
    },
    "language_info": {
      "codemirror_mode": {
        "name": "ipython",
        "version": 3
      },
      "file_extension": ".py",
      "mimetype": "text/x-python",
      "name": "python",
      "nbconvert_exporter": "python",
      "pygments_lexer": "ipython3",
      "version": "3.6.0"
    },
    "kernelspec": {
      "display_name": "Python 3",
      "language": "python",
      "name": "python3"
    }
  },
  "cells": [
    {
      "cell_type": "code",
      "metadata": {
        "id": "Qz2s-whWgtSP",
        "outputId": "1b27628e-b67e-4d19-df8b-717d62dfc4ed"
      },
      "source": [
        "x=5\n",
        "y=234.678\n",
        "print(x+y)"
      ],
      "execution_count": null,
      "outputs": [
        {
          "output_type": "stream",
          "text": [
            "239.678\n"
          ],
          "name": "stdout"
        }
      ]
    },
    {
      "cell_type": "code",
      "metadata": {
        "id": "-NFrKaRzgtSd",
        "outputId": "f93e6f82-f78f-43c8-d168-5c4c3a13e1f9"
      },
      "source": [
        "z=input()\n",
        "print(float(z)+5)"
      ],
      "execution_count": null,
      "outputs": [
        {
          "output_type": "stream",
          "text": [
            "2\n",
            "7.0\n"
          ],
          "name": "stdout"
        }
      ]
    },
    {
      "cell_type": "code",
      "metadata": {
        "id": "DkzpYDSKgtSm"
      },
      "source": [
        ""
      ],
      "execution_count": null,
      "outputs": []
    },
    {
      "cell_type": "code",
      "metadata": {
        "id": "BG5ga71KQIxB"
      },
      "source": [
        "%matplotlib inline\n",
        "import numpy as np\n",
        "import matplotlib.pyplot as plt"
      ],
      "execution_count": null,
      "outputs": []
    },
    {
      "cell_type": "code",
      "metadata": {
        "id": "7mylc0DcQIxF",
        "outputId": "537aa76f-51a6-4a41-8f7b-da70dcbce4f0"
      },
      "source": [
        "x = np.linspace(-np.pi, np.pi, 201)\n",
        "plt.plot(x, np.sin(x))\n",
        "plt.xlabel('x')\n",
        "plt.ylabel('y')\n",
        "plt.axis('tight')\n",
        "plt.show()"
      ],
      "execution_count": null,
      "outputs": [
        {
          "output_type": "display_data",
          "data": {
            "image/png": "[encoded data removed]",
            "text/plain": [
              "<matplotlib.figure.Figure at 0x6477dd0>"
            ]
          },
          "metadata": {
            "tags": []
          }
        }
      ]
    },
    {
      "cell_type": "code",
      "metadata": {
        "id": "e7udAAipQIxK",
        "outputId": "d18a4246-f012-4978-e38f-95982ca731e0"
      },
      "source": [
        "x = np.linspace(-1, 3, 201)\n",
        "print(np.poly([1, 1, 2]))\n",
        "plt.plot(x, x**3-4*x**2+5*x-2)\n",
        "plt.xlabel('x')\n",
        "plt.ylabel('y')\n",
        "plt.ylim(-2,2) \n",
        "plt.grid(True)\n",
        "plt.show()\n",
        "print(np.roots([ 1., -4.,  5., -2.]))"
      ],
      "execution_count": null,
      "outputs": [
        {
          "output_type": "stream",
          "text": [
            "[ 1. -4.  5. -2.]\n"
          ],
          "name": "stdout"
        },
        {
          "output_type": "display_data",
          "data": {
            "image/png": "[encoded data removed]",
            "text/plain": [
              "<matplotlib.figure.Figure at 0x64a92f0>"
            ]
          },
          "metadata": {
            "tags": []
          }
        },
        {
          "output_type": "stream",
          "text": [
            "[ 2. +0.00000000e+00j  1. +2.83263462e-08j  1. -2.83263462e-08j]\n"
          ],
          "name": "stdout"
        }
      ]
    },
    {
      "cell_type": "code",
      "metadata": {
        "id": "OXaAsEudQIxO"
      },
      "source": [
        ""
      ],
      "execution_count": null,
      "outputs": []
    }
  ]
}