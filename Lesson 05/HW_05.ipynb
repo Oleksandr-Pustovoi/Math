{
 "cells": [
  {
   "cell_type": "markdown",
   "metadata": {},
   "source": [
    "1 Напишите код, моделирующий выпадение поля в рулетке (с учетом поля зеро)."
   ]
  },
  {
   "cell_type": "code",
   "execution_count": 1,
   "metadata": {},
   "outputs": [
    {
     "name": "stdout",
     "output_type": "stream",
     "text": [
      "(17, 'black')\n",
      "(18, 'red')\n",
      "(12, 'red')\n",
      "(10, 'red')\n",
      "(32, 'red')\n",
      "(22, 'red')\n",
      "(15, 'black')\n",
      "(14, 'red')\n",
      "(11, 'black')\n",
      "(32, 'red')\n"
     ]
    }
   ],
   "source": [
    "%matplotlib inline\n",
    "import numpy as np\n",
    "import matplotlib.pyplot as plt\n",
    "import matplotlib.mlab as mlab\n",
    "\n",
    "def roulette(x):\n",
    "  x = int(x)\n",
    "  if x==0:\n",
    "    return x, \"zero\"\n",
    "  elif x%2 == 0:\n",
    "    return  x, \"red\"\n",
    "  else:\n",
    "    return x, \"black\"\n",
    "\n",
    "for i in range (0,10):\n",
    "  print (roulette(np.random.uniform(0, 36)))"
   ]
  },
  {
   "cell_type": "markdown",
   "metadata": {},
   "source": [
    "2.1 Напишите код, проверяющий любую из теорем сложения или умножения вероятности на примере рулетки или подбрасывания монетки."
   ]
  },
  {
   "cell_type": "code",
   "execution_count": 2,
   "metadata": {},
   "outputs": [
    {
     "name": "stdout",
     "output_type": "stream",
     "text": [
      "0.9999999999999999\n",
      "1.0\n",
      "1.0\n",
      "1.0\n",
      "1.0\n",
      "1.0\n",
      "1.0\n",
      "1.0\n",
      "1.0\n",
      "1.0\n",
      "1.0\n"
     ]
    }
   ],
   "source": [
    "# события \"Красное\" \"Черное\" и \"Зеро\" несовместны\n",
    "# и потому сумма вероятностей наступления каждого из них\n",
    "# должна составлять 1. Проверка\n",
    "n = 10000\n",
    "for attempt in range(0, 11):\n",
    "    r, b, z = 0, 0, 0\n",
    "    for i in range(0, n):\n",
    "        x = np.random.uniform(0, 36)\n",
    "        if roulette(x)[1] == \"zero\":\n",
    "            z = z + 1\n",
    "        if roulette(x)[1] == \"black\":\n",
    "            b = b + 1\n",
    "        if roulette(x)[1] == \"red\":\n",
    "            r = r + 1\n",
    "    print(r/n+b/n+z/n)"
   ]
  },
  {
   "cell_type": "markdown",
   "metadata": {},
   "source": [
    "Сгенерируйте десять выборок случайных чисел х0, …, х9. и постройте гистограмму распределения случайной суммы х0+х1+ …+ х9."
   ]
  },
  {
   "cell_type": "code",
   "execution_count": 3,
   "metadata": {},
   "outputs": [
    {
     "data": {
      "text/plain": [
       "Text(0.5, 1.0, 'Histogram')"
      ]
     },
     "execution_count": 3,
     "metadata": {},
     "output_type": "execute_result"
    },
    {
     "data": {
      "image/png": "[encoded data removed]",
      "text/plain": [
       "<Figure size 432x288 with 1 Axes>"
      ]
     },
     "metadata": {
      "needs_background": "light"
     },
     "output_type": "display_data"
    }
   ],
   "source": [
    "x = 0\n",
    "for attempt in range(0, 11):\n",
    "    x += np.random.randn(1000)\n",
    "num_bins = 30\n",
    "n, bins, patches = plt.hist(x, num_bins, density=1)\n",
    "plt.xlabel('x')\n",
    "plt.ylabel('Probability')\n",
    "plt.title('Histogram')"
   ]
  },
  {
   "cell_type": "markdown",
   "metadata": {},
   "source": [
    "3.1 Дополните код Монте-Карло последовательности независимых испытаний расчетом соответствующих вероятностей (через биномиальное распределение) \n",
    "и сравните результаты."
   ]
  },
  {
   "cell_type": "code",
   "execution_count": 4,
   "metadata": {},
   "outputs": [
    {
     "name": "stdout",
     "output_type": "stream",
     "text": [
      "Вероятность методом Монте-Карло:  0.3726\n",
      "Вероятность по формуле Бернулли:  0.375\n"
     ]
    }
   ],
   "source": [
    "import itertools\n",
    "from math import factorial\n",
    "\n",
    "m, l = 0, 10000\n",
    "k = 2\n",
    "n = 4  # количество испытаний\n",
    "a = np.random.randint(0, 2, l)\n",
    "b = np.random.randint(0, 2, l)\n",
    "c = np.random.randint(0, 2, l)\n",
    "d = np.random.randint(0, 2, l)\n",
    "x = a + b + c + d\n",
    "for i in range(0, l):\n",
    "    if x[i] == k:\n",
    "        m = m + 1\n",
    "# print(a, b, c, d)\n",
    "# print(x)\n",
    "print(\"Вероятность методом Монте-Карло: \", m/l)\n",
    "print(\"Вероятность по формуле Бернулли: \", factorial(\n",
    "    n)/(factorial(k)*factorial(n-k))*1/(2**n))"
   ]
  },
  {
   "cell_type": "markdown",
   "metadata": {},
   "source": [
    "3.2 Повторите расчеты биномиальных коэффициентов и вероятностей k успехов в последовательности из n независимых испытаний, взяв другие значения n и k."
   ]
  },
  {
   "cell_type": "code",
   "execution_count": 5,
   "metadata": {},
   "outputs": [
    {
     "name": "stdout",
     "output_type": "stream",
     "text": [
      "Вероятность методом Монте-Карло:  0.1173\n",
      "Вероятность по формуле Бернулли:  0.1171875\n"
     ]
    }
   ],
   "source": [
    "import itertools\n",
    "from math import factorial\n",
    "\n",
    "m, l = 0, 10000\n",
    "k = 7  # количество успехов\n",
    "n = 10  # количество испытаний\n",
    "\n",
    "for _ in range(n):\n",
    "    if _ == 0:\n",
    "        x = np.random.randint(0, 2, l)\n",
    "    else:\n",
    "        x += np.random.randint(0, 2, l)\n",
    "\n",
    "for i in range(0, l):\n",
    "    if x[i] == k:\n",
    "        m = m + 1\n",
    "print(\"Вероятность методом Монте-Карло: \", m/l)\n",
    "print(\"Вероятность по формуле Бернулли: \", factorial(\n",
    "    n)/(factorial(k)*factorial(n-k))*1/(2**n))"
   ]
  },
  {
   "cell_type": "markdown",
   "metadata": {},
   "source": [
    "4. Из урока по комбинаторике повторите расчеты, сгенерировав возможные варианты перестановок для других значений n и k"
   ]
  },
  {
   "cell_type": "code",
   "execution_count": 6,
   "metadata": {},
   "outputs": [
    {
     "name": "stdout",
     "output_type": "stream",
     "text": [
      "12\n",
      "13\n",
      "14\n",
      "15\n",
      "16\n",
      "21\n",
      "23\n",
      "24\n",
      "25\n",
      "26\n",
      "31\n",
      "32\n",
      "34\n",
      "35\n",
      "36\n",
      "41\n",
      "42\n",
      "43\n",
      "45\n",
      "46\n",
      "51\n",
      "52\n",
      "53\n",
      "54\n",
      "56\n",
      "61\n",
      "62\n",
      "63\n",
      "64\n",
      "65\n"
     ]
    }
   ],
   "source": [
    "obj = \"123456\"\n",
    "n= len(obj)\n",
    "k= 2\n",
    "\n",
    "for p in itertools.permutations(obj,k):\n",
    "    print(''.join(str(x) for x in p))"
   ]
  },
  {
   "cell_type": "code",
   "execution_count": 7,
   "metadata": {},
   "outputs": [
    {
     "name": "stdout",
     "output_type": "stream",
     "text": [
      "12\n",
      "13\n",
      "14\n",
      "15\n",
      "16\n",
      "23\n",
      "24\n",
      "25\n",
      "26\n",
      "34\n",
      "35\n",
      "36\n",
      "45\n",
      "46\n",
      "56\n"
     ]
    }
   ],
   "source": [
    "for p in itertools.combinations(obj,2):\n",
    "    print(''.join(p))"
   ]
  },
  {
   "cell_type": "markdown",
   "metadata": {},
   "source": [
    "5. Дополните код расчетом коэффициента корреляции x и y по формуле"
   ]
  },
  {
   "cell_type": "code",
   "execution_count": 67,
   "metadata": {},
   "outputs": [
    {
     "data": {
      "image/png": "[encoded data removed]",
      "text/plain": [
       "<Figure size 432x288 with 1 Axes>"
      ]
     },
     "metadata": {
      "needs_background": "light"
     },
     "output_type": "display_data"
    },
    {
     "name": "stdout",
     "output_type": "stream",
     "text": [
      "Корреляция посчитанная вручную:      0.9198353834515173\n",
      "Корреляция посчитанная np.corrcoef:  0.9198353834515173\n"
     ]
    }
   ],
   "source": [
    "n = 100\n",
    "r = 0.7\n",
    "x = np.random.rand(n)\n",
    "y = r*x + (1 - r)*np.random.rand(n)\n",
    "plt.plot(x, y, 'o')\n",
    "plt.xlabel('x')\n",
    "plt.ylabel('y')\n",
    "plt.grid(True)\n",
    "\n",
    "a = (np.sum(x)*np.sum(y) - n*np.sum(x*y))/(np.sum(x)*np.sum(x) - n*np.sum(x*x))\n",
    "b = (np.sum(y) - a*np.sum(x))/n\n",
    "\n",
    "A = np.vstack([x, np.ones(len(x))]).T\n",
    "a1, b1 = np.linalg.lstsq(A, y,rcond=None)[0]\n",
    "plt.plot([0, 1], [b, a + b])\n",
    "plt.show()\n",
    "\n",
    "Xav = np.average(x)\n",
    "Yav = np.average(y)\n",
    "X = x-Xav\n",
    "Y = y-Yav\n",
    "R = sum(X*Y) / (sum(X**2)*sum(Y**2))**.5\n",
    "print(\"Корреляция посчитанная вручную:     \",R)\n",
    "print(\"Корреляция посчитанная np.corrcoef: \",np.corrcoef(x, y)[0,1])"
   ]
  }
 ],
 "metadata": {
  "kernelspec": {
   "display_name": "Python 3",
   "language": "python",
   "name": "python3"
  },
  "language_info": {
   "codemirror_mode": {
    "name": "ipython",
    "version": 3
   },
   "file_extension": ".py",
   "mimetype": "text/x-python",
   "name": "python",
   "nbconvert_exporter": "python",
   "pygments_lexer": "ipython3",
   "version": "3.7.6"
  }
 },
 "nbformat": 4,
 "nbformat_minor": 4
}
