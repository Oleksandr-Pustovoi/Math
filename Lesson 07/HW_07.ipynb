{
 "cells": [
  {
   "cell_type": "code",
   "execution_count": 1,
   "metadata": {},
   "outputs": [],
   "source": [
    "import numpy as np \n",
    "import matplotlib.pyplot as plt\n",
    "import scipy \n",
    "import scipy.linalg  "
   ]
  },
  {
   "cell_type": "markdown",
   "metadata": {},
   "source": [
    "## Практическое задание №6"
   ]
  },
  {
   "cell_type": "markdown",
   "metadata": {},
   "source": [
    "### 5.1 Вычислите, по возможности не используя программирование: (5E)-1 где Е – единичная матрица размера 5х5."
   ]
  },
  {
   "cell_type": "markdown",
   "metadata": {},
   "source": [
    "              [1/5,inf,inf,inf,inf]\n",
    "              [inf,1/5,inf,inf,inf]\n",
    "              [inf,inf,1/5,inf,inf]\n",
    "              [inf,inf,inf,1/5,inf]\n",
    "              [inf,inf,inf,inf,1/5]"
   ]
  },
  {
   "cell_type": "markdown",
   "metadata": {},
   "source": [
    "### 5.2 Вычислите определитель"
   ]
  },
  {
   "cell_type": "code",
   "execution_count": 2,
   "metadata": {},
   "outputs": [
    {
     "data": {
      "text/plain": [
       "array([[1, 2, 3],\n",
       "       [4, 0, 6],\n",
       "       [7, 8, 9]])"
      ]
     },
     "execution_count": 2,
     "metadata": {},
     "output_type": "execute_result"
    }
   ],
   "source": [
    "g = np.array([[1,2,3],[4,0,6],[7,8,9]])\n",
    "g"
   ]
  },
  {
   "cell_type": "code",
   "execution_count": 3,
   "metadata": {},
   "outputs": [
    {
     "data": {
      "text/plain": [
       "60"
      ]
     },
     "execution_count": 3,
     "metadata": {},
     "output_type": "execute_result"
    }
   ],
   "source": [
    "DET = 1 * (0 * 9 - 6 * 8) - 2 * (4 * 9 - 6 * 7) + 3 * (4 * 8 - 0 * 7)\n",
    "DET"
   ]
  },
  {
   "cell_type": "markdown",
   "metadata": {},
   "source": [
    " ### 5.3.1 Вычислите матрицу, обратную данной:"
   ]
  },
  {
   "cell_type": "code",
   "execution_count": 4,
   "metadata": {},
   "outputs": [
    {
     "data": {
      "text/plain": [
       "array([[1, 2, 3],\n",
       "       [4, 0, 6],\n",
       "       [7, 8, 9]])"
      ]
     },
     "execution_count": 4,
     "metadata": {},
     "output_type": "execute_result"
    }
   ],
   "source": [
    "g = np.array([[1,2,3],[4,0,6],[7,8,9]])\n",
    "g"
   ]
  },
  {
   "cell_type": "code",
   "execution_count": 5,
   "metadata": {},
   "outputs": [
    {
     "data": {
      "text/plain": [
       "array([[-48,   6,  32],\n",
       "       [  6, -12,   6],\n",
       "       [ 12,   6,  -8]])"
      ]
     },
     "execution_count": 5,
     "metadata": {},
     "output_type": "execute_result"
    }
   ],
   "source": [
    "g_algdop = np.array([[+(0*9-6*8), -(4*9-6*7),+(4*8-0*7)],\n",
    "                     [-(2*9-3*8), +(1*9-3*7), -(1*8-2*7)],\n",
    "                     [+(2*6-3*0), -(1*6-3*4), +(1*0-2*4)\n",
    "                      ]])\n",
    "g_algdop"
   ]
  },
  {
   "cell_type": "code",
   "execution_count": 6,
   "metadata": {},
   "outputs": [
    {
     "data": {
      "text/plain": [
       "array([[-0.8       ,  0.1       ,  0.2       ],\n",
       "       [ 0.1       , -0.2       ,  0.1       ],\n",
       "       [ 0.53333333,  0.1       , -0.13333333]])"
      ]
     },
     "execution_count": 6,
     "metadata": {},
     "output_type": "execute_result"
    }
   ],
   "source": [
    "g_T = g_algdop.transpose()\n",
    "g_1 = g_T/DET\n",
    "g_1"
   ]
  },
  {
   "cell_type": "code",
   "execution_count": 7,
   "metadata": {},
   "outputs": [
    {
     "data": {
      "text/plain": [
       "array([[ 1.00000000e+00, -2.77555756e-17,  2.77555756e-17],\n",
       "       [-2.22044605e-16,  1.00000000e+00,  5.55111512e-17],\n",
       "       [-7.77156117e-16,  2.77555756e-17,  1.00000000e+00]])"
      ]
     },
     "execution_count": 7,
     "metadata": {},
     "output_type": "execute_result"
    }
   ],
   "source": [
    "np.dot(g, g_1) # проверка"
   ]
  },
  {
   "cell_type": "markdown",
   "metadata": {},
   "source": [
    "### 5.3.2. Приведите пример матрицы 4х4, ранг которой равен 1."
   ]
  },
  {
   "cell_type": "code",
   "execution_count": 8,
   "metadata": {},
   "outputs": [
    {
     "name": "stdout",
     "output_type": "stream",
     "text": [
      "[[5 5 5 5]\n",
      " [5 5 5 5]\n",
      " [1 1 1 1]\n",
      " [1 1 1 1]]\n"
     ]
    },
    {
     "data": {
      "text/plain": [
       "1"
      ]
     },
     "execution_count": 8,
     "metadata": {},
     "output_type": "execute_result"
    }
   ],
   "source": [
    "f = np.array([[5,5,5,5],[5,5,5,5],[1,1,1,1],[1,1,1,1]])\n",
    "print(f)\n",
    "np.linalg.matrix_rank(f, 0.0001)"
   ]
  },
  {
   "cell_type": "markdown",
   "metadata": {},
   "source": [
    "### 5.4. Вычислите скалярное произведение двух векторов:  (1, 5)  и  (2, 8)"
   ]
  },
  {
   "cell_type": "code",
   "execution_count": 9,
   "metadata": {},
   "outputs": [
    {
     "data": {
      "text/plain": [
       "42"
      ]
     },
     "execution_count": 9,
     "metadata": {},
     "output_type": "execute_result"
    }
   ],
   "source": [
    "A = np.array([1,5])\n",
    "B = np.array([2,8])\n",
    "ABscalar =1*2+5*8\n",
    "ABscalar\n",
    " "
   ]
  },
  {
   "cell_type": "markdown",
   "metadata": {},
   "source": [
    "### 5.5 Вычислите смешанное произведение трех векторов:\n",
    "(1, 5, 0), (2, 8, 7) и (7, 1.5, 3) "
   ]
  },
  {
   "cell_type": "code",
   "execution_count": 10,
   "metadata": {},
   "outputs": [
    {
     "name": "stdout",
     "output_type": "stream",
     "text": [
      "228.5\n"
     ]
    }
   ],
   "source": [
    "A = np.array([1,5,0])\n",
    "B = np.array([2,8,7])\n",
    "C = np.array([7,1.5,3])\n",
    "\n",
    "v = np.cross(A, B)\n",
    "print (np.inner(v, C))"
   ]
  },
  {
   "cell_type": "markdown",
   "metadata": {},
   "source": [
    "## Практическое задание №6\n",
    "\n",
    "\n",
    "### 1. Решите линейную систему:\n"
   ]
  },
  {
   "cell_type": "code",
   "execution_count": 11,
   "metadata": {},
   "outputs": [
    {
     "data": {
      "text/plain": [
       "array([-9.2       ,  0.9       ,  6.46666667])"
      ]
     },
     "execution_count": 11,
     "metadata": {},
     "output_type": "execute_result"
    }
   ],
   "source": [
    "A = np.array([[1,2,3],[4,0,6],[7,8,9]])\n",
    "B = np.array([12,2,1])\n",
    "np.linalg.solve(A,B)"
   ]
  },
  {
   "cell_type": "markdown",
   "metadata": {},
   "source": [
    "### 2. Найдите псевдорешение:\n",
    "\n",
    "x + 2y – z = 1\n",
    "\n",
    "3x – 4y = 7\n",
    "\n",
    "8x – 5y + 2z = 12\n",
    "\n",
    "2x – 5z = 7\n",
    "\n",
    "11x +4y – 7z = 15"
   ]
  },
  {
   "cell_type": "code",
   "execution_count": 12,
   "metadata": {},
   "outputs": [
    {
     "data": {
      "text/plain": [
       "(array([ 1.13919353, -0.90498444, -0.9009803 ]),\n",
       " array([0.71523211]),\n",
       " 3,\n",
       " array([15.2817306 ,  9.59852942,  3.65197794]))"
      ]
     },
     "execution_count": 12,
     "metadata": {},
     "output_type": "execute_result"
    }
   ],
   "source": [
    "A = np.array([[1,2,-1],[3,-4,0],[8,-5,2],[2,0,-5],[11,4,-7]])\n",
    "B = np.array([1,7,12,7,15])\n",
    "np.linalg.lstsq(A,B,rcond=None)"
   ]
  },
  {
   "cell_type": "code",
   "execution_count": 13,
   "metadata": {},
   "outputs": [
    {
     "data": {
      "text/plain": [
       "array([ 0.23020495,  7.03751835, 11.83650984,  6.78328856, 15.21805317])"
      ]
     },
     "execution_count": 13,
     "metadata": {},
     "output_type": "execute_result"
    }
   ],
   "source": [
    "np.dot(A, [ 1.13919353, -0.90498444, -0.9009803 ])"
   ]
  },
  {
   "cell_type": "markdown",
   "metadata": {},
   "source": [
    "### 3. Сколько решений имеет линейная система:\n",
    "Если ноль – то измените вектор правой части так, чтобы система стала совместной, и решите ее. "
   ]
  },
  {
   "cell_type": "code",
   "execution_count": 14,
   "metadata": {},
   "outputs": [
    {
     "data": {
      "text/plain": [
       "-9.51619735392994e-16"
      ]
     },
     "execution_count": 14,
     "metadata": {},
     "output_type": "execute_result"
    }
   ],
   "source": [
    "A = np.array([[1,2,3],[4,5,6],[7,8,9]])\n",
    "B = np.array([[12,2,1]])\n",
    "np.linalg.det(A)\n"
   ]
  },
  {
   "cell_type": "markdown",
   "metadata": {},
   "source": [
    "Поскольку определитель равен нулю у системы нет решений"
   ]
  },
  {
   "cell_type": "code",
   "execution_count": 15,
   "metadata": {},
   "outputs": [
    {
     "name": "stdout",
     "output_type": "stream",
     "text": [
      "[[ 1  2  3 12]\n",
      " [ 4  5  6  2]\n",
      " [ 7  8  9  1]]\n"
     ]
    },
    {
     "data": {
      "text/plain": [
       "(2, 3)"
      ]
     },
     "execution_count": 15,
     "metadata": {},
     "output_type": "execute_result"
    }
   ],
   "source": [
    "A = np.array([[1,2,3],[4,5,6],[7,8,9]])\n",
    "B = np.array([[12,2,1]])\n",
    "C = np.concatenate((A,B.T), axis=1)\n",
    "print(C)\n",
    "np.linalg.matrix_rank(A, 0.0001), np.linalg.matrix_rank(C, 0.0001)"
   ]
  },
  {
   "cell_type": "markdown",
   "metadata": {},
   "source": [
    "Так как rang A ≠ rang C, то СЛАУ несовместна (не имеет решений)."
   ]
  },
  {
   "cell_type": "code",
   "execution_count": 16,
   "metadata": {},
   "outputs": [
    {
     "name": "stdout",
     "output_type": "stream",
     "text": [
      "[[1 2 3 1]\n",
      " [4 5 6 2]\n",
      " [7 8 9 3]]\n"
     ]
    },
    {
     "data": {
      "text/plain": [
       "(2, 2)"
      ]
     },
     "execution_count": 16,
     "metadata": {},
     "output_type": "execute_result"
    }
   ],
   "source": [
    "B = np.array([[1,2,3]])# меняю правую часть чтобы система стала совместной\n",
    "C = np.concatenate((A,B.T), axis=1)\n",
    "print(C)\n",
    "np.linalg.matrix_rank(A, 0.0001), np.linalg.matrix_rank(C, 0.0001)"
   ]
  },
  {
   "cell_type": "code",
   "execution_count": 17,
   "metadata": {},
   "outputs": [
    {
     "data": {
      "text/plain": [
       "(array([-5.00000000e-01,  3.07361416e-16,  5.00000000e-01]),\n",
       " array([], dtype=float64),\n",
       " 2,\n",
       " array([1.68481034e+01, 1.06836951e+00, 3.33475287e-16]))"
      ]
     },
     "execution_count": 17,
     "metadata": {},
     "output_type": "execute_result"
    }
   ],
   "source": [
    "np.linalg.lstsq(A,[1,1,1],rcond=None)"
   ]
  },
  {
   "cell_type": "markdown",
   "metadata": {},
   "source": [
    "### 4. Вычислите LU-разложение матрицы:\n",
    "\n",
    "После этого придумайте вектор правых частей и решите полученную линейную систему трех уравнений с данной матрицей."
   ]
  },
  {
   "cell_type": "code",
   "execution_count": 18,
   "metadata": {
    "scrolled": true
   },
   "outputs": [
    {
     "data": {
      "text/plain": [
       "(array([[0., 1., 0.],\n",
       "        [0., 0., 1.],\n",
       "        [1., 0., 0.]]),\n",
       " array([[ 1.  ,  0.  ,  0.  ],\n",
       "        [ 0.25,  1.  ,  0.  ],\n",
       "        [ 0.5 , -0.4 ,  1.  ]]),\n",
       " array([[  4.  ,  28.  ,  73.  ],\n",
       "        [  0.  ,  -5.  , -15.25],\n",
       "        [  0.  ,   0.  , -21.6 ]]))"
      ]
     },
     "execution_count": 18,
     "metadata": {},
     "output_type": "execute_result"
    }
   ],
   "source": [
    "A = np.array([[1,2,3],[2,16,21],[4,28,73]])\n",
    "P,L,U = scipy.linalg.lu(A)\n",
    "P,L,U"
   ]
  },
  {
   "cell_type": "code",
   "execution_count": 19,
   "metadata": {},
   "outputs": [
    {
     "data": {
      "text/plain": [
       "(array([67.,  1., -4.]),\n",
       " array([], dtype=float64),\n",
       " 3,\n",
       " array([82.41767138,  7.1264625 ,  0.73551139]))"
      ]
     },
     "execution_count": 19,
     "metadata": {},
     "output_type": "execute_result"
    }
   ],
   "source": [
    "A = np.dot(L, U)\n",
    "B = np.array([4,57,66]) # вектор правых частей\n",
    "np.linalg.lstsq(A,B,rcond=None)"
   ]
  },
  {
   "cell_type": "markdown",
   "metadata": {},
   "source": [
    "### 5. Найдите нормальное псевдорешение недоопределенной системы:\n",
    "\n",
    "x + 2y – z = 1\n",
    "\n",
    "8x – 5y + 2z = 12\n",
    "\n",
    "Для этого определите функцию Q(x,y,z), равную норме решения, и найдите ее минимум."
   ]
  },
  {
   "cell_type": "code",
   "execution_count": 20,
   "metadata": {},
   "outputs": [
    {
     "data": {
      "image/png": "[encoded data removed]",
      "text/plain": [
       "<Figure size 432x288 with 1 Axes>"
      ]
     },
     "metadata": {
      "needs_background": "light"
     },
     "output_type": "display_data"
    }
   ],
   "source": [
    "from pylab import *\n",
    "from mpl_toolkits.mplot3d import Axes3D\n",
    "def Q(x, y, z):\n",
    "    return (x**2 + y**2 + z**2)\n",
    "\n",
    "fig = figure()\n",
    "ax = Axes3D(fig)\n",
    "X = np.arange(0.5, 2, .005)\n",
    "Y = np.arange(-1.5, 0, .005)\n",
    "X, Y = np.meshgrid(X, Y)\n",
    "Z = Q((9*Y+10)/7,(7*X-10)/9,1-2*Y-X)\n",
    "ax.plot_surface(X, Y, Z,cmap='viridis', edgecolor='none')\n",
    "plt.title(\"график  x+ 2y – z = 1 & 8x – 5y + 2z = 12\", va='bottom')\n",
    "show()"
   ]
  },
  {
   "cell_type": "markdown",
   "metadata": {},
   "source": [
    "проверка"
   ]
  },
  {
   "cell_type": "code",
   "execution_count": 21,
   "metadata": {},
   "outputs": [
    {
     "data": {
      "text/plain": [
       "(array([ 1.38191882, -0.18081181,  0.0202952 ]),\n",
       " array([], dtype=float64),\n",
       " 2,\n",
       " array([9.65316119, 2.41173777]))"
      ]
     },
     "execution_count": 21,
     "metadata": {},
     "output_type": "execute_result"
    }
   ],
   "source": [
    "A=np.array([[1,2,-1],[8,-5,2]])\n",
    "B=np.array([1,12]) \n",
    "np.linalg.lstsq(A,B,rcond=None)"
   ]
  },
  {
   "cell_type": "markdown",
   "metadata": {},
   "source": [
    "### 6. Найдите одно из псевдорешений вырожденной системы:\n",
    "\n",
    "Попробуйте также отыскать и нормальное псевдорешение.\n"
   ]
  },
  {
   "cell_type": "code",
   "execution_count": 22,
   "metadata": {},
   "outputs": [],
   "source": [
    "A = np.array([[1,2,3],[4,5,6],[7,8,9]])\n",
    "B = np.array([2,5,11])"
   ]
  },
  {
   "cell_type": "code",
   "execution_count": 23,
   "metadata": {},
   "outputs": [
    {
     "name": "stdout",
     "output_type": "stream",
     "text": [
      "[[1 2 3]\n",
      " [4 5 6]\n",
      " [7 8 9]]\n",
      "[[-0.12309149  0.90453403  0.40824829]\n",
      " [-0.49236596  0.30151134 -0.81649658]\n",
      " [-0.86164044 -0.30151134  0.40824829]]\n",
      "[[-8.12403840e+00 -9.60113630e+00 -1.10782342e+01]\n",
      " [ 0.00000000e+00  9.04534034e-01  1.80906807e+00]\n",
      " [ 0.00000000e+00  0.00000000e+00 -1.11164740e-15]]\n"
     ]
    }
   ],
   "source": [
    "Q, R = np.linalg.qr(A)\n",
    "\n",
    "print(A)\n",
    "print(Q)\n",
    "print(R)"
   ]
  },
  {
   "cell_type": "code",
   "execution_count": 24,
   "metadata": {},
   "outputs": [
    {
     "data": {
      "text/plain": [
       "array([[-8.1240384 , -9.6011363 ],\n",
       "       [ 0.        ,  0.90453403]])"
      ]
     },
     "execution_count": 24,
     "metadata": {},
     "output_type": "execute_result"
    }
   ],
   "source": [
    "R1 = R[:2, :2]\n",
    "R1"
   ]
  },
  {
   "cell_type": "code",
   "execution_count": 25,
   "metadata": {},
   "outputs": [
    {
     "data": {
      "text/plain": [
       "array([-1.21860576e+01,  8.54871729e-15])"
      ]
     },
     "execution_count": 25,
     "metadata": {},
     "output_type": "execute_result"
    }
   ],
   "source": [
    "B1 = np.dot(np.transpose(Q), B)[:2]\n",
    "B1"
   ]
  },
  {
   "cell_type": "code",
   "execution_count": 26,
   "metadata": {},
   "outputs": [
    {
     "data": {
      "text/plain": [
       "array([1.50000000e+00, 9.45096256e-15])"
      ]
     },
     "execution_count": 26,
     "metadata": {},
     "output_type": "execute_result"
    }
   ],
   "source": [
    "X1 = np.linalg.solve(R1, B1)\n",
    "X1"
   ]
  },
  {
   "cell_type": "code",
   "execution_count": 27,
   "metadata": {},
   "outputs": [
    {
     "name": "stdout",
     "output_type": "stream",
     "text": [
      "[1.50000000e+00 9.45096256e-15 0.00000000e+00]\n"
     ]
    },
    {
     "data": {
      "text/plain": [
       "1.4999999999999893"
      ]
     },
     "execution_count": 27,
     "metadata": {},
     "output_type": "execute_result"
    }
   ],
   "source": [
    "X = np.append(X1, 0)\n",
    "print (X)\n",
    "np.linalg.norm(X)"
   ]
  },
  {
   "cell_type": "code",
   "execution_count": null,
   "metadata": {},
   "outputs": [],
   "source": []
  },
  {
   "cell_type": "code",
   "execution_count": null,
   "metadata": {},
   "outputs": [],
   "source": []
  },
  {
   "cell_type": "code",
   "execution_count": null,
   "metadata": {},
   "outputs": [],
   "source": []
  },
  {
   "cell_type": "code",
   "execution_count": null,
   "metadata": {},
   "outputs": [],
   "source": []
  },
  {
   "cell_type": "code",
   "execution_count": null,
   "metadata": {},
   "outputs": [],
   "source": []
  },
  {
   "cell_type": "code",
   "execution_count": null,
   "metadata": {},
   "outputs": [],
   "source": []
  },
  {
   "cell_type": "code",
   "execution_count": null,
   "metadata": {},
   "outputs": [],
   "source": []
  }
 ],
 "metadata": {
  "kernelspec": {
   "display_name": "Python 3",
   "language": "python",
   "name": "python3"
  },
  "language_info": {
   "codemirror_mode": {
    "name": "ipython",
    "version": 3
   },
   "file_extension": ".py",
   "mimetype": "text/x-python",
   "name": "python",
   "nbconvert_exporter": "python",
   "pygments_lexer": "ipython3",
   "version": "3.7.6"
  }
 },
 "nbformat": 4,
 "nbformat_minor": 4
}
